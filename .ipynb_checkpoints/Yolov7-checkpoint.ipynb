{
 "cells": [
  {
   "cell_type": "code",
   "execution_count": 1,
   "id": "1484e07d",
   "metadata": {},
   "outputs": [
    {
     "name": "stdout",
     "output_type": "stream",
     "text": [
      "The directory C:\\Users\\thien\\OneDrive\\Python\\Yolov7 already exists. Skipping clone.\n"
     ]
    }
   ],
   "source": [
    "import os\n",
    "import subprocess\n",
    "\n",
    "# Define the directory and repository URL\n",
    "directory = r'C:\\Users\\thien\\OneDrive\\Python\\Yolov7'\n",
    "repo_url = 'https://github.com/WongKinYiu/yolov7.git'\n",
    "\n",
    "# Check if the directory exists\n",
    "if not os.path.exists(directory):\n",
    "    # Clone the repository if the directory does not exist\n",
    "    subprocess.run(['git', 'clone', repo_url, directory])\n",
    "    print(f\"Cloned {repo_url} into {directory}.\")\n",
    "else:\n",
    "    print(f\"The directory {directory} already exists. Skipping clone.\")"
   ]
  },
  {
   "cell_type": "code",
   "execution_count": null,
   "id": "73a99614",
   "metadata": {},
   "outputs": [
    {
     "name": "stdout",
     "output_type": "stream",
     "text": [
      "C:\\Users\\thien\\OneDrive\\Python\\Yolov7\\yolov7\n"
     ]
    }
   ],
   "source": [
    "import requests\n",
    "\n",
    "# Change directory to yolov7\n",
    "%cd C:\\Users\\thien\\OneDrive\\Python\\Yolov7\\yolov7\n",
    "\n",
    "# Define the URL and the local filename\n",
    "url = \"https://github.com/WongKinYiu/yolov7/releases/download/v0.1/yolov7-tiny.pt\"\n",
    "local_filename = \"yolov7-tiny.pt\"\n",
    "\n",
    "# Download the file\n",
    "response = requests.get(url, stream=True)\n",
    "if response.status_code == 200:\n",
    "    with open(local_filename, 'wb') as f:\n",
    "        for chunk in response.iter_content(chunk_size=8192):\n",
    "            f.write(chunk)\n",
    "    print(f\"Downloaded {local_filename} successfully.\")\n",
    "else:\n",
    "    print(f\"Failed to download {local_filename}. Status code: {response.status_code}\")\n"
   ]
  },
  {
   "cell_type": "code",
   "execution_count": null,
   "id": "87657950",
   "metadata": {},
   "outputs": [],
   "source": [
    "# # Downgrade NumPy to a compatible version\n",
    "# !pip install numpy==1.23.5\n",
    "# !pip install opencv-python\n",
    "\n",
    "\n",
    "# # Ensure torch and torchvision are installed\n",
    "# !pip install torch torchvision\n",
    "\n",
    "# # Change directory\n",
    "# %cd C:\\Users\\thien\\OneDrive\\Python\\Yolov7\\yolov7"
   ]
  },
  {
   "cell_type": "code",
   "execution_count": null,
   "id": "776c334a",
   "metadata": {},
   "outputs": [],
   "source": [
    "# !pip3 install torch torchvision torchaudio --index-url https://download.pytorch.org/whl/cu118"
   ]
  },
  {
   "cell_type": "code",
   "execution_count": null,
   "id": "0980647e",
   "metadata": {},
   "outputs": [],
   "source": [
    "#Verify PyTorch Installation:\n",
    "import torch\n",
    "\n",
    "print(\"PyTorch version:\", torch.__version__)\n",
    "print(\"CUDA version:\", torch.version.cuda)\n",
    "print(\"CUDA available:\", torch.cuda.is_available())\n",
    "\n",
    "if torch.cuda.is_available():\n",
    "    print(\"Number of CUDA devices:\", torch.cuda.device_count())\n",
    "    print(\"CUDA Device Name:\", torch.cuda.get_device_name(0))\n"
   ]
  },
  {
   "cell_type": "code",
   "execution_count": null,
   "id": "00b80d9b",
   "metadata": {},
   "outputs": [],
   "source": [
    "%cd /Users/thien/OneDrive/Python/Yolov7/yolov7\n",
    "!python train.py --epochs 100 --workers 4 --device 0 --batch-size 2 --data /Users/thien/OneDrive/Python/Yolov7/yolov7/data/data.yaml --img 640 640 --cfg /Users/thien/OneDrive/Python/Yolov7/yolov7/cfg/training/yolov7-tiny.yaml --weights /Users/thien/OneDrive/Python/Yolov7/yolov7/yolov7-tiny.pt --name yolov7 --hyp /Users/thien/OneDrive/Python/Yolov7/yolov7/data/hyp.scratch.tiny.yaml"
   ]
  },
  {
   "cell_type": "code",
   "execution_count": null,
   "id": "549ab5f9",
   "metadata": {
    "scrolled": false
   },
   "outputs": [],
   "source": [
    "import os\n",
    "os.environ['CUDA_VISIBLE_DEVICES'] = ''"
   ]
  },
  {
   "cell_type": "code",
   "execution_count": null,
   "id": "948994f5",
   "metadata": {},
   "outputs": [],
   "source": [
    "# import torch\n",
    "\n",
    "# # Adjust device selection\n",
    "# def select_device(device='', batch_size=None):\n",
    "#     # Choose CPU if GPU is not available or explicitly set to CPU\n",
    "#     return torch.device('cpu')\n",
    "\n",
    "# # Usage in your script\n",
    "# device = select_device('cpu')\n"
   ]
  },
  {
   "cell_type": "code",
   "execution_count": null,
   "id": "ce17d61d",
   "metadata": {
    "scrolled": true
   },
   "outputs": [],
   "source": [
    "# # Run the training script\n",
    "# !python train.py --epochs 500 --workers 8 --device cpu --batch-size 2 --data /Users/thien/OneDrive/Python/Yolov7/yolov7/data/data.yaml --img 640 640 --cfg /Users/thien/OneDrive/Python/Yolov7/yolov7/cfg/training/yolov7-tiny.yaml --weights /Users/thien/OneDrive/Python/Yolov7/yolov7/yolov7-tiny.pt --name yolov7 --hyp /Users/thien/OneDrive/Python/Yolov7/yolov7/data/hyp.scratch.tiny.yaml"
   ]
  },
  {
   "cell_type": "code",
   "execution_count": null,
   "id": "4971bc2d",
   "metadata": {},
   "outputs": [],
   "source": [
    "!python detect.py --weights /Users/thien/OneDrive/Python/Yolov7/yolov7/runs/train/yolov72/weights/best_282.pt --conf 0.2 --img-size 640 --source /Users/thien/OneDrive/Python/Yolov7/yolov7/data/2024_03_19_14_34_IMG_3888.JPG"
   ]
  },
  {
   "cell_type": "code",
   "execution_count": null,
   "id": "d6ccb81a",
   "metadata": {
    "scrolled": true
   },
   "outputs": [],
   "source": [
    "!pip install ultralytics"
   ]
  },
  {
   "cell_type": "code",
   "execution_count": null,
   "id": "35d742d1",
   "metadata": {
    "scrolled": true
   },
   "outputs": [],
   "source": [
    "!pip install ultralytics"
   ]
  },
  {
   "cell_type": "code",
   "execution_count": null,
   "id": "f68c02f7",
   "metadata": {},
   "outputs": [],
   "source": [
    "from ultralytics import YOLO"
   ]
  },
  {
   "cell_type": "code",
   "execution_count": null,
   "id": "677ca150",
   "metadata": {},
   "outputs": [],
   "source": [
    "model = YOLO('/Users/thien/OneDrive/Python/Yolov7/yolov7/runs/train/yolov73/weights/best.pt')\n",
    "model.export(format='onnx')"
   ]
  },
  {
   "cell_type": "code",
   "execution_count": null,
   "id": "67280fe3",
   "metadata": {},
   "outputs": [],
   "source": [
    "!python test.py --data data/data.yaml --img 640 --batch 32 --conf 0.001 --iou 0.65 --device 0 --weights /Users/thien/OneDrive/Python/Yolov7/yolov7/runs/train/yolov72/weights/best.pt --name yolov7_640_val"
   ]
  },
  {
   "cell_type": "code",
   "execution_count": null,
   "id": "62fb9ae0",
   "metadata": {},
   "outputs": [],
   "source": []
  },
  {
   "cell_type": "code",
   "execution_count": null,
   "id": "91f0188d",
   "metadata": {},
   "outputs": [],
   "source": []
  },
  {
   "cell_type": "code",
   "execution_count": null,
   "id": "1d95c264",
   "metadata": {},
   "outputs": [],
   "source": []
  },
  {
   "cell_type": "code",
   "execution_count": null,
   "id": "f494d433",
   "metadata": {},
   "outputs": [],
   "source": []
  },
  {
   "cell_type": "code",
   "execution_count": null,
   "id": "fdbf8297",
   "metadata": {},
   "outputs": [],
   "source": []
  },
  {
   "cell_type": "code",
   "execution_count": null,
   "id": "a54eeed9",
   "metadata": {},
   "outputs": [],
   "source": []
  }
 ],
 "metadata": {
  "kernelspec": {
   "display_name": "Python 3 (ipykernel)",
   "language": "python",
   "name": "python3"
  },
  "language_info": {
   "codemirror_mode": {
    "name": "ipython",
    "version": 3
   },
   "file_extension": ".py",
   "mimetype": "text/x-python",
   "name": "python",
   "nbconvert_exporter": "python",
   "pygments_lexer": "ipython3",
   "version": "3.10.9"
  }
 },
 "nbformat": 4,
 "nbformat_minor": 5
}
